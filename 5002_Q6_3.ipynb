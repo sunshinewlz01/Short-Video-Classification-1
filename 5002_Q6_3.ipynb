{
 "cells": [
  {
   "cell_type": "code",
   "execution_count": 13,
   "metadata": {},
   "outputs": [
    {
     "name": "stdout",
     "output_type": "stream",
     "text": [
      "30018754\n"
     ]
    }
   ],
   "source": [
    "import numpy as np\n",
    "import pandas as pd\n",
    "from collections import Counter\n",
    "\n",
    "df = pd.read_csv('Q6_output_mid.csv')\n",
    "Q6_output=pd.DataFrame()\n",
    "label=[]\n",
    "Q6_output['file_name']=df['ID'].unique()\n",
    "a=[]\n",
    "\n",
    "#data.ix[1,[0]]  #选择第2行第1列的值\n",
    "#data.iat[1, 1]\n",
    "judge1=df.iat[0,0]\n",
    "print (judge1)\n",
    "for i in range(len(df)):\n",
    "    judge2=df.iat[i,0]\n",
    "    a.append(df.iat[i,1])\n",
    "    if judge1!=judge2:\n",
    "    #while count==5:\n",
    "        d=Counter(a)\n",
    "        label.append(d.most_common()[0][0])\n",
    "        judge1=judge2\n",
    "        a=[]\n",
    "label=pd.DataFrame(label)       \n",
    "Q6_output['label']=label\n",
    "Q6_output['file_name'] = [i+'.mp4' for i in Q6_output['file_name']]\n",
    "Q6_output.to_csv('Q6_output.csv',index=None)"
   ]
  },
  {
   "cell_type": "code",
   "execution_count": null,
   "metadata": {},
   "outputs": [],
   "source": []
  }
 ],
 "metadata": {
  "kernelspec": {
   "display_name": "Python [conda env:py3]",
   "language": "python",
   "name": "conda-env-py3-py"
  },
  "language_info": {
   "codemirror_mode": {
    "name": "ipython",
    "version": 3
   },
   "file_extension": ".py",
   "mimetype": "text/x-python",
   "name": "python",
   "nbconvert_exporter": "python",
   "pygments_lexer": "ipython3",
   "version": "3.7.0"
  }
 },
 "nbformat": 4,
 "nbformat_minor": 2
}
